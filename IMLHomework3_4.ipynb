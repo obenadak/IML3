{
 "cells": [
  {
   "cell_type": "code",
   "execution_count": 1,
   "metadata": {
    "id": "qJ7EWnegFBCn"
   },
   "outputs": [],
   "source": [
    "from sklearn.model_selection import train_test_split\n",
    "from sklearn.linear_model import Perceptron\n",
    "from sklearn.metrics import confusion_matrix, classification_report, accuracy_score\n",
    "import matplotlib.pyplot as plt\n",
    "from sklearn import datasets\n",
    "import numpy as np\n",
    "import cv2\n",
    "import seaborn as sns\n"
   ]
  },
  {
   "cell_type": "code",
   "execution_count": 2,
   "metadata": {
    "id": "I4EVfwZ-FTJE"
   },
   "outputs": [
    {
     "name": "stdout",
     "output_type": "stream",
     "text": [
      "First digit as an 8x8 matrix:\n",
      "[[ 0.  0.  5. 13.  9.  1.  0.  0.]\n",
      " [ 0.  0. 13. 15. 10. 15.  5.  0.]\n",
      " [ 0.  3. 15.  2.  0. 11.  8.  0.]\n",
      " [ 0.  4. 12.  0.  0.  8.  8.  0.]\n",
      " [ 0.  5.  8.  0.  0.  9.  8.  0.]\n",
      " [ 0.  4. 11.  0.  1. 12.  7.  0.]\n",
      " [ 0.  2. 14.  5. 10. 12.  0.  0.]\n",
      " [ 0.  0.  6. 13. 10.  0.  0.  0.]]\n"
     ]
    }
   ],
   "source": [
    "from sklearn.preprocessing import StandardScaler\n",
    "# Load data\n",
    "mnist = datasets.load_digits()\n",
    "X = mnist.data\n",
    "y = mnist.target\n",
    "\n",
    "# Standardize the dataset using StandardScaler\n",
    "scaler = StandardScaler()\n",
    "X_scaled = scaler.fit_transform(X)\n",
    "\n",
    "# lets print the first digit as 8x8 matrix\n",
    "print(\"First digit as an 8x8 matrix:\")\n",
    "print(X[0].reshape((8, 8)))"
   ]
  },
  {
   "cell_type": "code",
   "execution_count": 3,
   "metadata": {
    "id": "57QjPqVfFktK"
   },
   "outputs": [
    {
     "name": "stdout",
     "output_type": "stream",
     "text": [
      "number of train samples: 1617\n",
      "number of test samples:: 180\n"
     ]
    }
   ],
   "source": [
    "# Split the dataset into training and test sets\n",
    "(X_train, X_test, y_train, y_test) = train_test_split(X_scaled, y, test_size=0.10, random_state=1)\n",
    "\n",
    "# show the sizes of each data split\n",
    "print(\"number of train samples: {}\".format(len(X_train)))\n",
    "print(\"number of test samples:: {}\".format(len(X_test)))"
   ]
  },
  {
   "cell_type": "code",
   "execution_count": 4,
   "metadata": {
    "id": "6NsIVFDSFmlp"
   },
   "outputs": [
    {
     "name": "stdout",
     "output_type": "stream",
     "text": [
      "Results for dual=True\n",
      "Accuracy: 0.97\n",
      "Classification Report:\n",
      "              precision    recall  f1-score   support\n",
      "\n",
      "           0       1.00      1.00      1.00        20\n",
      "           1       0.95      0.95      0.95        19\n",
      "           2       1.00      0.95      0.98        21\n",
      "           3       0.96      1.00      0.98        22\n",
      "           4       1.00      1.00      1.00        18\n",
      "           5       0.94      1.00      0.97        17\n",
      "           6       1.00      1.00      1.00        16\n",
      "           7       0.95      0.95      0.95        21\n",
      "           8       0.93      0.93      0.93        15\n",
      "           9       1.00      0.91      0.95        11\n",
      "\n",
      "    accuracy                           0.97       180\n",
      "   macro avg       0.97      0.97      0.97       180\n",
      "weighted avg       0.97      0.97      0.97       180\n",
      "\n",
      "Results for dual=False\n",
      "Accuracy: 0.97\n",
      "Classification Report:\n",
      "              precision    recall  f1-score   support\n",
      "\n",
      "           0       1.00      1.00      1.00        20\n",
      "           1       0.95      0.95      0.95        19\n",
      "           2       1.00      0.95      0.98        21\n",
      "           3       0.96      1.00      0.98        22\n",
      "           4       1.00      1.00      1.00        18\n",
      "           5       0.94      1.00      0.97        17\n",
      "           6       1.00      1.00      1.00        16\n",
      "           7       0.95      0.95      0.95        21\n",
      "           8       0.93      0.93      0.93        15\n",
      "           9       1.00      0.91      0.95        11\n",
      "\n",
      "    accuracy                           0.97       180\n",
      "   macro avg       0.97      0.97      0.97       180\n",
      "weighted avg       0.97      0.97      0.97       180\n",
      "\n"
     ]
    }
   ],
   "source": [
    "from sklearn.svm import LinearSVC\n",
    "# Different LinearSVC parameters\n",
    "duals = [True, False]\n",
    "best_accuracy = 0\n",
    "best_params = {}\n",
    "# Loop through each determined parameteres\n",
    "for dual in duals:\n",
    "    model = LinearSVC(dual=dual, max_iter=1000, C=0.01 )\n",
    "    model.fit(X_train, y_train)\n",
    "    # Test and evaluate the model\n",
    "    fx_test = model.predict(X_test)\n",
    "    accuracy = accuracy_score(y_test, fx_test)\n",
    "    if accuracy > best_accuracy:\n",
    "        best_accuracy = accuracy\n",
    "        best_params = {'dual': dual}\n",
    "    print(f\"Results for dual={dual}\")\n",
    "    print(f\"Accuracy: {accuracy:.2f}\")\n",
    "    print(f\"Classification Report:\\n{classification_report(y_test, fx_test)}\")\n"
   ]
  },
  {
   "cell_type": "code",
   "execution_count": 5,
   "metadata": {},
   "outputs": [
    {
     "name": "stdout",
     "output_type": "stream",
     "text": [
      "\n",
      "Best Hyperparameters:\n",
      "dual: True\n",
      "Best Accuracy: 0.97\n"
     ]
    }
   ],
   "source": [
    "# Print the best dual and accuracy\n",
    "print(\"\\nBest Hyperparameters:\")\n",
    "print(f\"dual: {best_params['dual']}\")\n",
    "print(f\"Best Accuracy: {best_accuracy:.2f}\")"
   ]
  },
  {
   "cell_type": "code",
   "execution_count": 6,
   "metadata": {},
   "outputs": [],
   "source": [
    "# Evaluation with dual: True parameters\n",
    "model = LinearSVC(dual=best_params['dual'], max_iter=1000, C=0.01 )\n",
    "model.fit(X_train, y_train)\n",
    "fx_test = model.predict(X_test)"
   ]
  },
  {
   "cell_type": "code",
   "execution_count": 7,
   "metadata": {},
   "outputs": [
    {
     "name": "stdout",
     "output_type": "stream",
     "text": [
      "Classification Report:\n",
      "\n",
      "              precision    recall  f1-score   support\n",
      "\n",
      "           0       1.00      1.00      1.00        20\n",
      "           1       0.95      0.95      0.95        19\n",
      "           2       1.00      0.95      0.98        21\n",
      "           3       0.96      1.00      0.98        22\n",
      "           4       1.00      1.00      1.00        18\n",
      "           5       0.94      1.00      0.97        17\n",
      "           6       1.00      1.00      1.00        16\n",
      "           7       0.95      0.95      0.95        21\n",
      "           8       0.93      0.93      0.93        15\n",
      "           9       1.00      0.91      0.95        11\n",
      "\n",
      "    accuracy                           0.97       180\n",
      "   macro avg       0.97      0.97      0.97       180\n",
      "weighted avg       0.97      0.97      0.97       180\n",
      "\n"
     ]
    }
   ],
   "source": [
    "cr = classification_report(y_test, fx_test)\n",
    "print(\"Classification Report:\\n\\n{}\" .format(cr))"
   ]
  },
  {
   "cell_type": "code",
   "execution_count": 8,
   "metadata": {},
   "outputs": [
    {
     "name": "stdout",
     "output_type": "stream",
     "text": [
      "Confusion matrix\n"
     ]
    },
    {
     "data": {
      "image/png": "[encoded data removed]",
      "text/plain": [
       "<Figure size 300x300 with 2 Axes>"
      ]
     },
     "metadata": {},
     "output_type": "display_data"
    }
   ],
   "source": [
    "print (\"Confusion matrix\")\n",
    "cm = confusion_matrix(y_test, fx_test)\n",
    "plt.figure(figsize=(3,3))\n",
    "sns.heatmap(cm, annot=True, fmt=\"d\", cmap=\"Oranges\", xticklabels=mnist.target_names, \n",
    "            yticklabels=mnist.target_names)\n",
    "plt.xlabel('Predicted Labels')\n",
    "plt.ylabel('True Labels')\n",
    "plt.title('Confusion Matrix')\n",
    "plt.show()"
   ]
  },
  {
   "cell_type": "code",
   "execution_count": 9,
   "metadata": {
    "id": "yF23VUUvGtBm"
   },
   "outputs": [
    {
     "data": {
      "image/png": "[encoded data removed]",
      "text/plain": [
       "<Figure size 1500x500 with 5 Axes>"
      ]
     },
     "metadata": {},
     "output_type": "display_data"
    }
   ],
   "source": [
    "# Figure to hold subplots\n",
    "fig, axes = plt.subplots(1, 5, figsize=(15, 5))  # 1 row, 5 columns\n",
    "axes = axes.flatten()\n",
    "# visualize the first 5 digits and annotate them\n",
    "for i in range(5):\n",
    "         label = model.predict([X_test[i]])\n",
    "         image = X_test[i].reshape((8,8))\n",
    "         axes[i].imshow(image, cmap='gray')  # Images'll be shown in gray scale\n",
    "         axes[i].set_title(f\"I think the digit is: {label[0]}\", fontsize=12)  \n",
    "         cv2.waitKey(0)\n",
    "# Show the plot\n",
    "plt.tight_layout()\n",
    "plt.show()"
   ]
  }
 ],
 "metadata": {
  "accelerator": "GPU",
  "colab": {
   "gpuType": "T4",
   "provenance": []
  },
  "kernelspec": {
   "display_name": "Python 3",
   "name": "python3"
  },
  "language_info": {
   "codemirror_mode": {
    "name": "ipython",
    "version": 3
   },
   "file_extension": ".py",
   "mimetype": "text/x-python",
   "name": "python",
   "nbconvert_exporter": "python",
   "pygments_lexer": "ipython3",
   "version": "3.13.0"
  }
 },
 "nbformat": 4,
 "nbformat_minor": 0
}
